{
 "cells": [
  {
   "cell_type": "code",
   "execution_count": 29,
   "metadata": {
    "collapsed": false
   },
   "outputs": [
    {
     "data": {
      "text/plain": [
       "array([[0, 1, 2],\n",
       "       [3, 4, 5],\n",
       "       [6, 7, 8]])"
      ]
     },
     "execution_count": 29,
     "metadata": {},
     "output_type": "execute_result"
    }
   ],
   "source": [
    "import numpy as np\n",
    "\n",
    "my3x3Matrix = array([[0,1,2],[3,4,5],[6,7,8]])\n",
    "my3x3Matrix\n",
    "\n",
    "#print(\"3 x3 Matrix is %f\" % array([[0,1,2],[3,4,5],[6,7,8]]))\n",
    "\n"
   ]
  },
  {
   "cell_type": "code",
   "execution_count": 26,
   "metadata": {
    "collapsed": false
   },
   "outputs": [
    {
     "name": "stdout",
     "output_type": "stream",
     "text": [
      "10\n"
     ]
    }
   ],
   "source": [
    "#4\n",
    "print(sum(range(5),-1))"
   ]
  },
  {
   "cell_type": "code",
   "execution_count": 27,
   "metadata": {
    "collapsed": false
   },
   "outputs": [
    {
     "name": "stdout",
     "output_type": "stream",
     "text": [
      "10\n"
     ]
    }
   ],
   "source": [
    "#5\n",
    "from numpy import *\n",
    "print(sum(range(5),-1))"
   ]
  },
  {
   "cell_type": "code",
   "execution_count": 32,
   "metadata": {
    "collapsed": false
   },
   "outputs": [
    {
     "data": {
      "text/plain": [
       "1j"
      ]
     },
     "execution_count": 32,
     "metadata": {},
     "output_type": "execute_result"
    }
   ],
   "source": [
    "#6\n",
    "#np.sqrt(-1)==np.emath.sqrt(-1)\n",
    "\n",
    "\"\"\"This expression is not true\"\"\""
   ]
  },
  {
   "cell_type": "code",
   "execution_count": 38,
   "metadata": {
    "collapsed": false
   },
   "outputs": [
    {
     "name": "stdout",
     "output_type": "stream",
     "text": [
      "Mean value of random vector of size 30 is  0.605374249199\n"
     ]
    }
   ],
   "source": [
    "#7\n",
    "print(\"Mean value of random vector of size 30 is \" , mean(random.rand(30,)))"
   ]
  },
  {
   "cell_type": "code",
   "execution_count": null,
   "metadata": {
    "collapsed": true
   },
   "outputs": [],
   "source": [
    "#8\n"
   ]
  },
  {
   "cell_type": "code",
   "execution_count": 53,
   "metadata": {
    "collapsed": false
   },
   "outputs": [
    {
     "name": "stdout",
     "output_type": "stream",
     "text": [
      "Sort a random vector of size 10 is  [ 0.0859131   0.25460606  0.29436373  0.32188089  0.49058079  0.4911517\n",
      "  0.5607885   0.87131517  0.89050671  0.97213402]\n"
     ]
    }
   ],
   "source": [
    "#10\n",
    "vlist = random.rand(10,)\n",
    "vlist.sort()\n",
    "\n",
    "#print(\"Sort a random vector of size 10 is \", random.rand(10,).sort())\n",
    "print(\"Sort a random vector of size 10 is \", vlist)\n"
   ]
  },
  {
   "cell_type": "code",
   "execution_count": 85,
   "metadata": {
    "collapsed": false
   },
   "outputs": [
    {
     "name": "stdout",
     "output_type": "stream",
     "text": [
      "[ 0.19689966  0.3541612   0.39270413  0.69294735  0.00542975  0.5873\n",
      "  0.17918989  0.45097998  0.62089932  0.10412901  0.37311761  0.84896346\n",
      "  0.00330782  0.03084364  0.61352499  0.29135342  0.69231285  0.75497215\n",
      "  0.48212241  0.40212171  0.16008058  0.50184928  0.87998378  0.74612752\n",
      "  0.51652767  0.12648982  0.71683768  0.02039872  0.34010318  0.89275374\n",
      "  0.64038076  0.25180597  0.57935866  0.05192083  0.27649122  0.68218664\n",
      "  0.3047212   0.20687441  0.99399309  0.14358683  0.657951    0.33968944\n",
      "  0.97433713  0.56757148  0.36219197  0.52353705  0.2285419   0.57167498\n",
      "  0.5172433   0.45631517  0.18004419  0.45453838  0.34871665  0.4882067\n",
      "  0.08431275  0.11188527  0.3936074   0.13535819  0.01875708  0.69207989\n",
      "  0.35833196  0.0837142   0.32231297  0.74947187  0.86883037  0.43124849\n",
      "  0.95893742  0.95187217  0.89019657  0.0062869   0.8311462   0.01048188\n",
      "  0.27473174  0.98334974  0.34860127  0.63419659  0.30247233  0.7512577\n",
      "  0.34401943  0.35678801  0.25626685  0.13635193  0.16501871  0.07845282\n",
      "  0.14882093  0.07779003  0.30399255  0.57410027  0.09099894  0.43466969\n",
      "  0.3760139   0.74471356  0.42546873  0.83632752  0.38462027  0.86819319\n",
      "  0.43614555  0.67245987  0.01545621  0.89318978]\n",
      "Max Value is  0.993993086282\n",
      "Position of Max Value is  (array([38], dtype=int64),)\n",
      "[ 0.19689966  0.3541612   0.39270413  0.69294735  0.00542975  0.5873\n",
      "  0.17918989  0.45097998  0.62089932  0.10412901  0.37311761  0.84896346\n",
      "  0.00330782  0.03084364  0.61352499  0.29135342  0.69231285  0.75497215\n",
      "  0.48212241  0.40212171  0.16008058  0.50184928  0.87998378  0.74612752\n",
      "  0.51652767  0.12648982  0.71683768  0.02039872  0.34010318  0.89275374\n",
      "  0.64038076  0.25180597  0.57935866  0.05192083  0.27649122  0.68218664\n",
      "  0.3047212   0.20687441  0.          0.14358683  0.657951    0.33968944\n",
      "  0.97433713  0.56757148  0.36219197  0.52353705  0.2285419   0.57167498\n",
      "  0.5172433   0.45631517  0.18004419  0.45453838  0.34871665  0.4882067\n",
      "  0.08431275  0.11188527  0.3936074   0.13535819  0.01875708  0.69207989\n",
      "  0.35833196  0.0837142   0.32231297  0.74947187  0.86883037  0.43124849\n",
      "  0.95893742  0.95187217  0.89019657  0.0062869   0.8311462   0.01048188\n",
      "  0.27473174  0.98334974  0.34860127  0.63419659  0.30247233  0.7512577\n",
      "  0.34401943  0.35678801  0.25626685  0.13635193  0.16501871  0.07845282\n",
      "  0.14882093  0.07779003  0.30399255  0.57410027  0.09099894  0.43466969\n",
      "  0.3760139   0.74471356  0.42546873  0.83632752  0.38462027  0.86819319\n",
      "  0.43614555  0.67245987  0.01545621  0.89318978]\n"
     ]
    }
   ],
   "source": [
    "#11\n",
    "vlist = random.rand(100,)\n",
    "#vlist.sort()\n",
    "MaxValue = vlist.max()\n",
    "PosMaxValue = np.where(vlist == vlist.max())\n",
    "\n",
    "print(vlist)\n",
    "print(\"Max Value is \", MaxValue)\n",
    "print(\"Position of Max Value is \", PosMaxValue)\n",
    "vlist[PosMaxValue]=0\n",
    "print(vlist)\n",
    "print(\"replaced the max value with zero\")"
   ]
  },
  {
   "cell_type": "code",
   "execution_count": null,
   "metadata": {
    "collapsed": true
   },
   "outputs": [],
   "source": [
    "#12\n",
    "np.dot(diag(vlist))"
   ]
  }
 ],
 "metadata": {
  "kernelspec": {
   "display_name": "Python 3",
   "language": "python",
   "name": "python3"
  },
  "language_info": {
   "codemirror_mode": {
    "name": "ipython",
    "version": 3
   },
   "file_extension": ".py",
   "mimetype": "text/x-python",
   "name": "python",
   "nbconvert_exporter": "python",
   "pygments_lexer": "ipython3",
   "version": "3.6.0"
  }
 },
 "nbformat": 4,
 "nbformat_minor": 2
}
